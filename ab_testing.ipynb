{
 "cells": [
  {
   "cell_type": "code",
   "execution_count": 41,
   "id": "8baab83e",
   "metadata": {},
   "outputs": [
    {
     "data": {
      "text/html": [
       "<div>\n",
       "<style scoped>\n",
       "    .dataframe tbody tr th:only-of-type {\n",
       "        vertical-align: middle;\n",
       "    }\n",
       "\n",
       "    .dataframe tbody tr th {\n",
       "        vertical-align: top;\n",
       "    }\n",
       "\n",
       "    .dataframe thead th {\n",
       "        text-align: right;\n",
       "    }\n",
       "</style>\n",
       "<table border=\"1\" class=\"dataframe\">\n",
       "  <thead>\n",
       "    <tr style=\"text-align: right;\">\n",
       "      <th></th>\n",
       "      <th>user_id</th>\n",
       "      <th>date</th>\n",
       "      <th>group</th>\n",
       "      <th>purchase</th>\n",
       "      <th>price</th>\n",
       "    </tr>\n",
       "  </thead>\n",
       "  <tbody>\n",
       "    <tr>\n",
       "      <th>0</th>\n",
       "      <td>851104</td>\n",
       "      <td>2021-01-21</td>\n",
       "      <td>A</td>\n",
       "      <td>0</td>\n",
       "      <td>0</td>\n",
       "    </tr>\n",
       "    <tr>\n",
       "      <th>1</th>\n",
       "      <td>804228</td>\n",
       "      <td>2021-01-12</td>\n",
       "      <td>A</td>\n",
       "      <td>0</td>\n",
       "      <td>0</td>\n",
       "    </tr>\n",
       "    <tr>\n",
       "      <th>2</th>\n",
       "      <td>661590</td>\n",
       "      <td>2021-01-11</td>\n",
       "      <td>B</td>\n",
       "      <td>0</td>\n",
       "      <td>0</td>\n",
       "    </tr>\n",
       "    <tr>\n",
       "      <th>3</th>\n",
       "      <td>853541</td>\n",
       "      <td>2021-01-08</td>\n",
       "      <td>B</td>\n",
       "      <td>0</td>\n",
       "      <td>0</td>\n",
       "    </tr>\n",
       "    <tr>\n",
       "      <th>4</th>\n",
       "      <td>864975</td>\n",
       "      <td>2021-01-21</td>\n",
       "      <td>A</td>\n",
       "      <td>1</td>\n",
       "      <td>150000</td>\n",
       "    </tr>\n",
       "  </tbody>\n",
       "</table>\n",
       "</div>"
      ],
      "text/plain": [
       "   user_id        date group  purchase   price\n",
       "0   851104  2021-01-21     A         0       0\n",
       "1   804228  2021-01-12     A         0       0\n",
       "2   661590  2021-01-11     B         0       0\n",
       "3   853541  2021-01-08     B         0       0\n",
       "4   864975  2021-01-21     A         1  150000"
      ]
     },
     "execution_count": 41,
     "metadata": {},
     "output_type": "execute_result"
    }
   ],
   "source": [
    "import pandas as pd\n",
    "data = pd.read_csv('data/ab_data_tourist.csv')\n",
    "data.head()"
   ]
  },
  {
   "cell_type": "markdown",
   "id": "df75c2c4",
   "metadata": {},
   "source": [
    "## Анализ структуры и предобработка данных"
   ]
  },
  {
   "cell_type": "markdown",
   "id": "35df8995",
   "metadata": {},
   "source": [
    "### Информаця о структуре"
   ]
  },
  {
   "cell_type": "code",
   "execution_count": 42,
   "id": "accd09f4",
   "metadata": {},
   "outputs": [
    {
     "name": "stdout",
     "output_type": "stream",
     "text": [
      "\n",
      "Информация о данных:\n",
      "<class 'pandas.core.frame.DataFrame'>\n",
      "RangeIndex: 294478 entries, 0 to 294477\n",
      "Data columns (total 5 columns):\n",
      " #   Column    Non-Null Count   Dtype \n",
      "---  ------    --------------   ----- \n",
      " 0   user_id   294478 non-null  int64 \n",
      " 1   date      294478 non-null  object\n",
      " 2   group     294478 non-null  object\n",
      " 3   purchase  294478 non-null  int64 \n",
      " 4   price     294478 non-null  int64 \n",
      "dtypes: int64(3), object(2)\n",
      "memory usage: 11.2+ MB\n",
      "None\n"
     ]
    }
   ],
   "source": [
    "print(\"\\nИнформация о данных:\")\n",
    "print(data.info())"
   ]
  },
  {
   "cell_type": "code",
   "execution_count": 43,
   "id": "4f20abb5",
   "metadata": {},
   "outputs": [
    {
     "name": "stdout",
     "output_type": "stream",
     "text": [
      "\n",
      "Основные статистики:\n",
      "             user_id       purchase          price\n",
      "count  294478.000000  294478.000000  294478.000000\n",
      "mean   787974.124733       0.119659   10154.782361\n",
      "std     91210.823776       0.324563   35153.824872\n",
      "min    630000.000000       0.000000       0.000000\n",
      "25%    709032.250000       0.000000       0.000000\n",
      "50%    787933.500000       0.000000       0.000000\n",
      "75%    866911.750000       0.000000       0.000000\n",
      "max    945999.000000       1.000000  200000.000000\n"
     ]
    }
   ],
   "source": [
    "print(\"\\nОсновные статистики:\")\n",
    "print(data.describe())"
   ]
  },
  {
   "cell_type": "code",
   "execution_count": 44,
   "id": "43f730bc",
   "metadata": {},
   "outputs": [
    {
     "name": "stdout",
     "output_type": "stream",
     "text": [
      "\n",
      "Уникальные значения в столбце 'group':\n",
      "group\n",
      "B    147276\n",
      "A    147202\n",
      "Name: count, dtype: int64\n"
     ]
    }
   ],
   "source": [
    "print(\"\\nУникальные значения в столбце 'group':\")\n",
    "print(data['group'].value_counts())"
   ]
  },
  {
   "cell_type": "markdown",
   "id": "034adbcd",
   "metadata": {},
   "source": [
    "### Преобразование к типу данных"
   ]
  },
  {
   "cell_type": "code",
   "execution_count": 45,
   "id": "815470e8",
   "metadata": {},
   "outputs": [],
   "source": [
    "#Преобразуем дату в datetime\n",
    "data['date'] = pd.to_datetime(data['date'])\n",
    "#Преобразуем group в категориальный тип\n",
    "data['group'] = data['group'].astype('category')\n",
    "#Преобразуем purchase в булевый тип (0/1)\n",
    "data['purchase'] = data['purchase'].astype(bool)"
   ]
  },
  {
   "cell_type": "code",
   "execution_count": 46,
   "id": "60c77130",
   "metadata": {},
   "outputs": [
    {
     "name": "stdout",
     "output_type": "stream",
     "text": [
      "Типы данных после преобразования:\n",
      "user_id              int64\n",
      "date        datetime64[ns]\n",
      "group             category\n",
      "purchase              bool\n",
      "price                int64\n",
      "dtype: object\n"
     ]
    }
   ],
   "source": [
    "print(\"Типы данных после преобразования:\")\n",
    "print(data.dtypes)"
   ]
  },
  {
   "cell_type": "markdown",
   "id": "69254ae3",
   "metadata": {},
   "source": [
    "### Длительность a/b тестирования"
   ]
  },
  {
   "cell_type": "code",
   "execution_count": 47,
   "id": "94a0b775",
   "metadata": {},
   "outputs": [],
   "source": [
    "#Находим минимальную и максимальную дату для каждой группы\n",
    "date_range_by_group = data.groupby('group')['date'].agg(['min', 'max'])\n",
    "date_range_by_group['duration'] = (date_range_by_group['max'] - date_range_by_group['min']).dt.days"
   ]
  },
  {
   "cell_type": "code",
   "execution_count": 48,
   "id": "a13d6b40",
   "metadata": {},
   "outputs": [
    {
     "name": "stdout",
     "output_type": "stream",
     "text": [
      "Диапазон дат по группам:\n",
      "             min        max  duration\n",
      "group                                \n",
      "A     2021-01-02 2021-01-24        22\n",
      "B     2021-01-02 2021-01-24        22\n",
      "Длительности тестирования одинаковы для всех групп!\n"
     ]
    }
   ],
   "source": [
    "print(\"Диапазон дат по группам:\")\n",
    "print(date_range_by_group)\n",
    "#Если длительности отличаются, можно обрезать данные до общего периода\n",
    "if len(date_range_by_group['duration'].unique()) > 1:\n",
    "    print(\"Длительности тестирования различаются между группами!\")\n",
    "    common_start = date_range_by_group['min'].max()\n",
    "    common_end = date_range_by_group['max'].min()\n",
    "    print(f\"Общий период тестирования: с {common_start} по {common_end}\")\n",
    "    #Обрезаем данные до общего периода\n",
    "    data = data[(data['date'] >= common_start) & (data['date'] <= common_end)]\n",
    "    print(f\"Размер данных после обрезки: {data.shape}\")\n",
    "else:\n",
    "    print(\"Длительности тестирования одинаковы для всех групп!\")"
   ]
  },
  {
   "cell_type": "markdown",
   "id": "9de9d185",
   "metadata": {},
   "source": [
    "### Пропуски"
   ]
  },
  {
   "cell_type": "code",
   "execution_count": 49,
   "id": "77997de4",
   "metadata": {},
   "outputs": [
    {
     "name": "stdout",
     "output_type": "stream",
     "text": [
      "Пропущенные значения:\n",
      "user_id     0\n",
      "date        0\n",
      "group       0\n",
      "purchase    0\n",
      "price       0\n",
      "dtype: int64\n",
      "Пропущенных значений нет\n"
     ]
    }
   ],
   "source": [
    "missing_values = data.isnull().sum()\n",
    "print(\"Пропущенные значения:\")\n",
    "print(missing_values)\n",
    "#Удаляем строки с пропусками, если они есть\n",
    "if missing_values.sum() > 0:\n",
    "    print(\"Удаляем строки с пропусками...\")\n",
    "    data = data.dropna()\n",
    "    print(f\"Размер данных после удаления пропусков: {data.shape}\")\n",
    "else:\n",
    "    print(\"Пропущенных значений нет\")"
   ]
  },
  {
   "cell_type": "markdown",
   "id": "3feb9a2b",
   "metadata": {},
   "source": [
    "### Проверка пользователей в обеих группах"
   ]
  },
  {
   "cell_type": "code",
   "execution_count": 50,
   "id": "eedd7e30",
   "metadata": {},
   "outputs": [
    {
     "name": "stdout",
     "output_type": "stream",
     "text": [
      "Количество пользователей в обеих группах: 1895\n",
      "Найдены пользователи, которые были в обеих группах!\n",
      "Исключаем этих пользователей из анализа...\n",
      "Будет исключено 3790 записей\n",
      "Размер данных после исключения: (290688, 5)\n"
     ]
    }
   ],
   "source": [
    "#Находим пользователей, которые были в обеих группах\n",
    "users_in_both_groups = data.groupby('user_id')['group'].nunique()\n",
    "users_in_multiple_groups = users_in_both_groups[users_in_both_groups > 1]\n",
    "print(f\"Количество пользователей в обеих группах: {len(users_in_multiple_groups)}\")\n",
    "if len(users_in_multiple_groups) > 0:\n",
    "    print(\"Найдены пользователи, которые были в обеих группах!\")\n",
    "    print(\"Исключаем этих пользователей из анализа...\")\n",
    "    #Получаем ID пользователей для исключения\n",
    "    users_to_exclude = users_in_multiple_groups.index.tolist()\n",
    "    #Сохраняем информацию об исключенных пользователях\n",
    "    excluded_data = data[data['user_id'].isin(users_to_exclude)]\n",
    "    print(f\"Будет исключено {len(excluded_data)} записей\")\n",
    "    #Исключаем пользователей\n",
    "    data = data[~data['user_id'].isin(users_to_exclude)]\n",
    "    print(f\"Размер данных после исключения: {data.shape}\")\n",
    "else:\n",
    "    print(\"Пользователей в обеих группах не найдено!\")"
   ]
  },
  {
   "cell_type": "markdown",
   "id": "cd34168a",
   "metadata": {},
   "source": [
    "### Цены"
   ]
  },
  {
   "cell_type": "code",
   "execution_count": 51,
   "id": "785049a3",
   "metadata": {},
   "outputs": [
    {
     "name": "stdout",
     "output_type": "stream",
     "text": [
      "\n",
      "Распределение по группам:\n",
      "group\n",
      "B    145381\n",
      "A    145307\n",
      "Name: count, dtype: int64\n",
      "\n",
      "Статистики по покупкам:\n",
      "purchase\n",
      "False    255911\n",
      "True      34777\n",
      "Name: count, dtype: int64\n",
      "Конверсия: 0.1196\n",
      "\n",
      "Статистики по ценам:\n",
      "count    290688.000000\n",
      "mean      10151.055427\n",
      "std       35152.835088\n",
      "min           0.000000\n",
      "25%           0.000000\n",
      "50%           0.000000\n",
      "75%           0.000000\n",
      "max      200000.000000\n",
      "Name: price, dtype: float64\n",
      "Средний чек: 84848.89\n"
     ]
    }
   ],
   "source": [
    "print(\"\\nРаспределение по группам:\")\n",
    "print(data['group'].value_counts())\n",
    "print(\"\\nСтатистики по покупкам:\")\n",
    "print(data['purchase'].value_counts())\n",
    "print(f\"Конверсия: {data['purchase'].mean():.4f}\")\n",
    "print(\"\\nСтатистики по ценам:\")\n",
    "print(data['price'].describe())\n",
    "print(f\"Средний чек: {data[data['purchase']]['price'].mean():.2f}\")"
   ]
  },
  {
   "cell_type": "markdown",
   "id": "53a99b25",
   "metadata": {},
   "source": [
    "## Первичный анализ результатов a/b тестов"
   ]
  },
  {
   "cell_type": "code",
   "execution_count": 52,
   "id": "34c9f13c",
   "metadata": {},
   "outputs": [],
   "source": [
    "import numpy as np\n",
    "import matplotlib.pyplot as plt\n",
    "import seaborn as sns"
   ]
  },
  {
   "cell_type": "markdown",
   "id": "95293957",
   "metadata": {},
   "source": [
    "### Вспомогательные харакетристики по группам"
   ]
  },
  {
   "cell_type": "code",
   "execution_count": 53,
   "id": "84579686",
   "metadata": {},
   "outputs": [],
   "source": [
    "group_stats = data.groupby('group').agg(\n",
    "    visits=('user_id', 'count'),  #количество посещений\n",
    "    purchases=('purchase', 'sum'),  #количество покупок\n",
    "    total_revenue=('price', 'sum')  #сумма всех покупок\n",
    ").reset_index()"
   ]
  },
  {
   "cell_type": "code",
   "execution_count": 54,
   "id": "4fd47a57",
   "metadata": {},
   "outputs": [
    {
     "name": "stdout",
     "output_type": "stream",
     "text": [
      "  group  visits  purchases  total_revenue  conversion_rate   \n",
      "0     A  145307      17487     1417780000         0.120345  \\\n",
      "1     B  145381      17290     1533010000         0.118929   \n",
      "\n",
      "   average_order_value  \n",
      "0         81076.228055  \n",
      "1         88664.545980  \n",
      "\n",
      "\n"
     ]
    }
   ],
   "source": [
    "group_stats['conversion_rate'] = group_stats['purchases'] / group_stats['visits']\n",
    "group_stats['average_order_value'] = group_stats['total_revenue'] / group_stats['purchases']\n",
    "\n",
    "print(group_stats)\n",
    "print(\"\\n\")"
   ]
  },
  {
   "cell_type": "markdown",
   "id": "50a5497a",
   "metadata": {},
   "source": [
    "### Промежуточные выводы"
   ]
  },
  {
   "cell_type": "code",
   "execution_count": 55,
   "id": "f8ed163e",
   "metadata": {},
   "outputs": [
    {
     "name": "stdout",
     "output_type": "stream",
     "text": [
      "Сопоставимость количества посещений:\n",
      "Соотношение посещений (B/A): 1.001\n",
      "Количество посещений сопоставимо (разница менее 10%)\n",
      "\n",
      "Балансировка выборок:\n",
      "   Группа A: 50.0% посещений\n",
      "   Группа B: 50.0% посещений\n",
      "Выборки сбалансированы\n"
     ]
    }
   ],
   "source": [
    "print(\"Сопоставимость количества посещений:\")\n",
    "visit_ratio = group_stats[group_stats['group'] == 'B']['visits'].values[0] / group_stats[group_stats['group'] == 'A']['visits'].values[0]\n",
    "print(f\"Соотношение посещений (B/A): {visit_ratio:.3f}\")\n",
    "if 0.9 <= visit_ratio <= 1.1:\n",
    "    print(\"Количество посещений сопоставимо (разница менее 10%)\")\n",
    "else:\n",
    "    print(\"Количество посещений существенно отличается\")\n",
    "print(\"\\nБалансировка выборок:\")\n",
    "total_visits = group_stats['visits'].sum()\n",
    "for group in ['A', 'B']:\n",
    "    group_share = group_stats[group_stats['group'] == group]['visits'].values[0] / total_visits\n",
    "    print(f\"   Группа {group}: {group_share:.1%} посещений\")\n",
    "if 0.45 <= group_stats[group_stats['group'] == 'A']['visits'].values[0] / total_visits <= 0.55:\n",
    "    print(\"Выборки сбалансированы\")\n",
    "else:\n",
    "    print(\"Выборки несбалансированы\")"
   ]
  },
  {
   "cell_type": "markdown",
   "id": "13a62ce1",
   "metadata": {},
   "source": [
    "### Ключевые характеристики и первичные выводы"
   ]
  },
  {
   "cell_type": "code",
   "execution_count": 56,
   "id": "0f6ec7ad",
   "metadata": {},
   "outputs": [
    {
     "name": "stdout",
     "output_type": "stream",
     "text": [
      "Ключевые метрики по группам:\n",
      "  group  conversion_rate  average_order_value  total_revenue\n",
      "0     A           0.1203             81076.23     1417780000\n",
      "1     B           0.1189             88664.55     1533010000\n",
      "\n",
      "Сравнение конверсии:\n",
      "   Группа A: 0.1203\n",
      "   Группа B: 0.1189\n",
      "   Разница: -1.2%\n",
      "\n",
      "Сравнение среднего чека:\n",
      "   Группа A: 81076.23\n",
      "   Группа B: 88664.55\n",
      "   Разница: +9.4%\n",
      "\n",
      "Выводы:\n",
      "Контрольная группа A показывает более высокую конверсию\n",
      "Тестовая группа B показывает более высокий средний чек\n"
     ]
    }
   ],
   "source": [
    "print(\"Ключевые метрики по группам:\")\n",
    "key_metrics = group_stats[['group', 'conversion_rate', 'average_order_value', 'total_revenue']].copy()\n",
    "key_metrics['conversion_rate'] = key_metrics['conversion_rate'].round(4)\n",
    "key_metrics['average_order_value'] = key_metrics['average_order_value'].round(2)\n",
    "print(key_metrics)\n",
    "#Сравнение показателей\n",
    "conv_A = group_stats[group_stats['group'] == 'A']['conversion_rate'].values[0]\n",
    "conv_B = group_stats[group_stats['group'] == 'B']['conversion_rate'].values[0]\n",
    "aov_A = group_stats[group_stats['group'] == 'A']['average_order_value'].values[0]\n",
    "aov_B = group_stats[group_stats['group'] == 'B']['average_order_value'].values[0]\n",
    "conv_diff = ((conv_B - conv_A) / conv_A) * 100\n",
    "aov_diff = ((aov_B - aov_A) / aov_A) * 100\n",
    "print(f\"\\nСравнение конверсии:\")\n",
    "print(f\"   Группа A: {conv_A:.4f}\")\n",
    "print(f\"   Группа B: {conv_B:.4f}\")\n",
    "print(f\"   Разница: {conv_diff:+.1f}%\")\n",
    "print(f\"\\nСравнение среднего чека:\")\n",
    "print(f\"   Группа A: {aov_A:.2f}\")\n",
    "print(f\"   Группа B: {aov_B:.2f}\")\n",
    "print(f\"   Разница: {aov_diff:+.1f}%\")\n",
    "#Первичные выводы\n",
    "print(f\"\\nВыводы:\")\n",
    "if conv_B > conv_A:\n",
    "    print(\"Тестовая группа B показывает более высокую конверсию\")\n",
    "else:\n",
    "    print(\"Контрольная группа A показывает более высокую конверсию\")\n",
    "if aov_B > aov_A:\n",
    "    print(\"Тестовая группа B показывает более высокий средний чек\")\n",
    "else:\n",
    "    print(\"Контрольная группа A показывает более высокий средний чек\")"
   ]
  },
  {
   "cell_type": "markdown",
   "id": "9cc8a1ef",
   "metadata": {},
   "source": [
    "### Анализ покупательской способности по ценам туров"
   ]
  },
  {
   "cell_type": "code",
   "execution_count": 57,
   "id": "94873fea",
   "metadata": {},
   "outputs": [
    {
     "name": "stdout",
     "output_type": "stream",
     "text": [
      "Сводная таблица: зависимость количества продаж от группы и цены тура\n",
      "    price  group_A_purchases  group_B_purchases  total_purchases  B_vs_A_ratio\n",
      "0   10000               5182               5201            10383      1.003667\n",
      "1   60000               5271               1730             7001      0.328211\n",
      "2  100000               1832               5227             7059      2.853166\n",
      "3  150000               3478               3438             6916      0.988499\n",
      "4  200000               1724               1694             3418      0.982599\n"
     ]
    }
   ],
   "source": [
    "#Создаем сводную таблицу\n",
    "pivot_data = data[data['purchase'] == True]  #только покупки\n",
    "price_analysis = pivot_data.pivot_table(\n",
    "    index='price',\n",
    "    columns='group',\n",
    "    values='user_id',\n",
    "    aggfunc='count',\n",
    "    fill_value=0\n",
    ").reset_index()\n",
    "price_analysis.columns = ['price', 'group_A_purchases', 'group_B_purchases']\n",
    "price_analysis['total_purchases'] = price_analysis['group_A_purchases'] + price_analysis['group_B_purchases']\n",
    "price_analysis['B_vs_A_ratio'] = price_analysis['group_B_purchases'] / price_analysis['group_A_purchases'].replace(0, 0.001)\n",
    "print(\"Сводная таблица: зависимость количества продаж от группы и цены тура\")\n",
    "print(price_analysis.sort_values('price'))"
   ]
  },
  {
   "cell_type": "markdown",
   "id": "8b163164",
   "metadata": {},
   "source": [
    "### Визуализация"
   ]
  },
  {
   "cell_type": "code",
   "execution_count": 58,
   "id": "19a82b2d",
   "metadata": {},
   "outputs": [
    {
     "data": {
      "image/png": "[encoded data removed]",
      "text/plain": [
       "<Figure size 1200x800 with 2 Axes>"
      ]
     },
     "metadata": {},
     "output_type": "display_data"
    }
   ],
   "source": [
    "#Визуализация\n",
    "plt.figure(figsize=(12, 8))\n",
    "#Распределение покупок по ценам\n",
    "plt.subplot(2, 1, 1)\n",
    "x = np.arange(len(price_analysis))\n",
    "width = 0.35\n",
    "plt.bar(x - width/2, price_analysis['group_A_purchases'], width, label='Группа A', alpha=0.7)\n",
    "plt.bar(x + width/2, price_analysis['group_B_purchases'], width, label='Группа B', alpha=0.7)\n",
    "plt.xlabel('Цена тура')\n",
    "plt.ylabel('Количество покупок')\n",
    "plt.title('Распределение покупок по ценам в группах A и B')\n",
    "plt.xticks(x, price_analysis['price'], rotation=45)\n",
    "plt.legend()\n",
    "plt.grid(True, alpha=0.3)\n",
    "#Соотношение покупок B/A по ценам\n",
    "plt.subplot(2, 1, 2)\n",
    "plt.bar(x, price_analysis['B_vs_A_ratio'], alpha=0.7, color='green')\n",
    "plt.axhline(y=1, color='red', linestyle='--', label='Равное соотношение (B/A = 1)')\n",
    "plt.xlabel('Цена тура')\n",
    "plt.ylabel('Соотношение покупок (B/A)')\n",
    "plt.title('Соотношение количества покупок между группами B и A по ценам')\n",
    "plt.xticks(x, price_analysis['price'], rotation=45)\n",
    "plt.legend()\n",
    "plt.grid(True, alpha=0.3)\n",
    "plt.tight_layout()\n",
    "plt.show()"
   ]
  },
  {
   "cell_type": "markdown",
   "id": "5bafe394",
   "metadata": {},
   "source": [
    "### Анализ по ценовым сегментам"
   ]
  },
  {
   "cell_type": "code",
   "execution_count": null,
   "id": "44901755",
   "metadata": {},
   "outputs": [
    {
     "name": "stdout",
     "output_type": "stream",
     "text": [
      "Анализ по ценовым сегментам:\n",
      "   Низкий ценовой сегмент (≤50k): соотношение B/A = 1.00\n",
      "   Средний ценовой сегмент (50k-100k): соотношение B/A = 0.98\n",
      "   Высокий ценовой сегмент (>100k): соотношение B/A = 0.99\n"
     ]
    }
   ],
   "source": [
    "#Анализ по разным ценовым сегментам\n",
    "low_price = price_analysis[price_analysis['price'] <= 50000]\n",
    "medium_price = price_analysis[(price_analysis['price'] > 50000) & (price_analysis['price'] <= 100000)]\n",
    "high_price = price_analysis[price_analysis['price'] > 100000]\n",
    "print(\"Анализ по ценовым сегментам:\")\n",
    "if not low_price.empty:\n",
    "    low_ratio = low_price['group_B_purchases'].sum() / low_price['group_A_purchases'].sum()\n",
    "    print(f\"   Низкий ценовой сегмент (≤50k): соотношение B/A = {low_ratio:.2f}\")\n",
    "if not medium_price.empty:\n",
    "    medium_ratio = medium_price['group_B_purchases'].sum() / medium_price['group_A_purchases'].sum()\n",
    "    print(f\"   Средний ценовой сегмент (50k-100k): соотношение B/A = {medium_ratio:.2f}\")\n",
    "if not high_price.empty:\n",
    "    high_ratio = high_price['group_B_purchases'].sum() / high_price['group_A_purchases'].sum()\n",
    "    print(f\"   Высокий ценовой сегмент (>100k): соотношение B/A = {high_ratio:.2f}\")"
   ]
  },
  {
   "cell_type": "markdown",
   "id": "0d43d644",
   "metadata": {},
   "source": [
    "### Выводы по покупательской способности"
   ]
  },
  {
   "cell_type": "code",
   "execution_count": null,
   "id": "3e468b5c",
   "metadata": {},
   "outputs": [
    {
     "name": "stdout",
     "output_type": "stream",
     "text": [
      "\n",
      "ОБЩИЕ ВЫВОДЫ:\n",
      "1. Группа B показывает различную эффективность в разных ценовых сегментах\n",
      "2. Наиболее значимые различия наблюдаются в сегменте: низком ценовом сегменте\n",
      "3. Максимальное преимущество группы B: в низком сегменте\n",
      "4. Минимальное преимущество/недостаток: в среднем сегменте\n"
     ]
    }
   ],
   "source": [
    "#Выводы по покупательской способности\n",
    "print(\"\\nОбщие выводы:\")\n",
    "print(\"1. Группа B показывает различную эффективность в разных ценовых сегментах\")\n",
    "print(\"2. Наиболее значимые различия наблюдаются в сегменте: \", end=\"\")\n",
    "ratios = {}\n",
    "if not low_price.empty:\n",
    "    ratios['низком'] = low_ratio\n",
    "if not medium_price.empty:\n",
    "    ratios['среднем'] = medium_ratio\n",
    "if not high_price.empty:\n",
    "    ratios['высоком'] = high_ratio\n",
    "if ratios:\n",
    "    max_diff_segment = max(ratios, key=ratios.get)\n",
    "    min_diff_segment = min(ratios, key=ratios.get)\n",
    "    print(f\"{max_diff_segment} ценовом сегменте\")\n",
    "    print(f\"3. Максимальное преимущество группы B: в {max_diff_segment} сегменте\")\n",
    "    print(f\"4. Минимальное преимущество/недостаток: в {min_diff_segment} сегменте\")"
   ]
  }
 ],
 "metadata": {
  "kernelspec": {
   "display_name": "Python 3",
   "language": "python",
   "name": "python3"
  },
  "language_info": {
   "codemirror_mode": {
    "name": "ipython",
    "version": 3
   },
   "file_extension": ".py",
   "mimetype": "text/x-python",
   "name": "python",
   "nbconvert_exporter": "python",
   "pygments_lexer": "ipython3",
   "version": "3.12.4"
  }
 },
 "nbformat": 4,
 "nbformat_minor": 5
}
